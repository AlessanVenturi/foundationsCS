{
  "cells": [
    {
      "metadata": {
        "collapsed": true
      },
      "cell_type": "markdown",
      "source": "Read the files `2017_german_election_overall.csv` and `2017_german_election_party.csv` from the [german-election-2017](https://github.com/gdv/foundationsCS-2018/blob/master/ex-data/german-election-2017/) dataset.\n\n\n### For each area, compute the percentage of total  votes over the registered voters"
    },
    {
      "metadata": {
        "collapsed": true
      },
      "cell_type": "markdown",
      "source": "### For each state, compute the total number of registered voters"
    },
    {
      "metadata": {
        "collapsed": true
      },
      "cell_type": "markdown",
      "source": "### How many registered voters are there in Bayern or Saarland (compute the voters in each state and the sum of the two numbers)"
    },
    {
      "metadata": {
        "collapsed": true
      },
      "cell_type": "markdown",
      "source": "### For each state, compute the number of votes (first vote) for each party"
    },
    {
      "metadata": {
        "collapsed": true
      },
      "cell_type": "markdown",
      "source": "### For each state and each party, compute the area where the party has taken the most total votes"
    },
    {
      "metadata": {
        "collapsed": true
      },
      "cell_type": "markdown",
      "source": "### For each party, compute the area where the party has taken the most and the least votes, as a percentage of the overall registered voters in the state."
    },
    {
      "metadata": {
        "collapsed": true
      },
      "cell_type": "markdown",
      "source": "### For each area, compute the difference between the valid first votes and the valid second votes"
    },
    {
      "metadata": {
        "collapsed": true
      },
      "cell_type": "markdown",
      "source": "### For each state, compute the difference between the valid first votes and the valid second votes"
    },
    {
      "metadata": {
        "collapsed": true
      },
      "cell_type": "markdown",
      "source": "### For each party, compute the difference between the valid first votes and the valid second votes"
    },
    {
      "metadata": {
        "collapsed": true
      },
      "cell_type": "markdown",
      "source": "### For each area and each party, compute the difference between the valid first votes and the valid second votes"
    }
  ],
  "metadata": {
    "kernelspec": {
      "name": "python36",
      "display_name": "Python 3.6",
      "language": "python"
    },
    "language_info": {
      "mimetype": "text/x-python",
      "nbconvert_exporter": "python",
      "name": "python",
      "pygments_lexer": "ipython3",
      "version": "3.6.6",
      "file_extension": ".py",
      "codemirror_mode": {
        "version": 3,
        "name": "ipython"
      }
    }
  },
  "nbformat": 4,
  "nbformat_minor": 2
}